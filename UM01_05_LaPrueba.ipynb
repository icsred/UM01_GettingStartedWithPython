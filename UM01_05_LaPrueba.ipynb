{
  "nbformat": 4,
  "nbformat_minor": 0,
  "metadata": {
    "colab": {
      "name": "UM01_05 LaPrueba.ipynb",
      "provenance": [],
      "collapsed_sections": [],
      "toc_visible": true,
      "authorship_tag": "ABX9TyNESabJR9B3wmCA0hGBDSL/",
      "include_colab_link": true
    },
    "kernelspec": {
      "name": "python3",
      "display_name": "Python 3"
    },
    "language_info": {
      "name": "python"
    }
  },
  "cells": [
    {
      "cell_type": "markdown",
      "metadata": {
        "id": "view-in-github",
        "colab_type": "text"
      },
      "source": [
        "<a href=\"https://colab.research.google.com/github/icsred/UM01_GettingStartedWithPython/blob/main/UM01_05_LaPrueba.ipynb\" target=\"_parent\"><img src=\"https://colab.research.google.com/assets/colab-badge.svg\" alt=\"Open In Colab\"/></a>"
      ]
    },
    {
      "cell_type": "markdown",
      "metadata": {
        "id": "WM_qj53ELbh4"
      },
      "source": [
        "# Resolución de Diana\n",
        "\n",
        "Esta notebook muestra la resolución al ejercicio práctico de Diana.\n",
        "Si quieres que se vea bonita tu notebook usa la [sintaxis de Markdown](https://markdown.es/sintaxis-markdown/)."
      ]
    },
    {
      "cell_type": "markdown",
      "metadata": {
        "id": "p4LsM4Ux9r0M"
      },
      "source": [
        "---\n",
        "\n",
        "## Nombre y Edad\n",
        "\n",
        "Crear un programa que le pregunte al usuario su nombre y su edad en años. El programa debe mostrarle al usuario el nombre e indicarle cuántos meses tiene.\n",
        "\n",
        "Extras:\n",
        "\n",
        "- [ ] El programa debe indicarle al usuario si su edad es un número par o impar\n",
        "- [ ] Si su edad en años es par, sugiérele una canción\n",
        "- [ ] Si su edad en años es impar, sugiérele una serie\n",
        "- [ ] Pero si su edad termina en 5, sugiérele una película\n",
        "- [ ] Pero si su edad termina en 2, sugiérele un coctél"
      ]
    },
    {
      "cell_type": "code",
      "metadata": {
        "cellView": "form",
        "id": "KH3C8vsCflt6"
      },
      "source": [
        "# @title Función edad\n",
        "def aged():\n",
        "    # loop infinito\n",
        "    while True:\n",
        "        try:\n",
        "            edad = int(input(\"¿Cuántos años tienes?: \"))\n",
        "            break\n",
        "        except:\n",
        "            print(\"Ingresa sólo números\", nombre)\n",
        "            continue\n",
        "    return edad"
      ],
      "execution_count": 1,
      "outputs": []
    },
    {
      "cell_type": "code",
      "metadata": {
        "cellView": "form",
        "id": "jYdYmfeTpEnQ"
      },
      "source": [
        "# @title Función extras\n",
        "def extras():\n",
        "    numero = [int(x) for x in str(edad)]\n",
        "    print(\"Más o menos estás rondando los {} meses {}, ¿lo sabías?\\n\" .format(edad*12, nombre))\n",
        "\n",
        "    if (edad % 2) == 0:\n",
        "        print(\"Tu edad ({}) es un número par y en numerología está asociado a lo emocional\".format(edad))\n",
        "        if numero[-1] == 2:\n",
        "            print(\"{}!, prueba este finde un rico mojito\".format(nombre))\n",
        "        else:\n",
        "            print(\"Ahora mismo estoy escuchando 'Space for Rent' de WhoMadeWho {}. Está buenísima!\".format(nombre))\n",
        "    \n",
        "    else:\n",
        "        print(\"Tu edad ({}) es un número impar y en numerología está asociado a lo racional\".format(edad))\n",
        "        if numero[-1] == 5:\n",
        "            print(\"{}, hay un falso documental que se llama 'What do we do in the shadows'... Te mueres de la risa\".format(nombre))\n",
        "        else:\n",
        "            print(\"Fleabag es la mejor serie del universo {}. Ya me la repetí cinco veces. ¡Te va a encatar!\".format(nombre))"
      ],
      "execution_count": 2,
      "outputs": []
    },
    {
      "cell_type": "code",
      "metadata": {
        "colab": {
          "base_uri": "https://localhost:8080/"
        },
        "id": "FoLDgSjSh9Ud",
        "outputId": "753dfc1c-7536-46eb-edb8-a56e2fe21d59"
      },
      "source": [
        "nombre = input(\"¿Cómo te llaman? \")\n",
        "edad = aged()\n",
        "extras()"
      ],
      "execution_count": 4,
      "outputs": [
        {
          "output_type": "stream",
          "text": [
            "¿Cómo te llaman? Lorenzo\n",
            "¿Cuántos años tienes?: noventa\n",
            "Ingresa sólo números Lorenzo\n",
            "¿Cuántos años tienes?: ochenta\n",
            "Ingresa sólo números Lorenzo\n",
            "¿Cuántos años tienes?: 90\n",
            "Más o menos estás rondando los 1080 meses Lorenzo, ¿lo sabías?\n",
            "\n",
            "Tu edad (90) es un número par y en numerología está asociado a lo emocional\n",
            "Ahora mismo estoy escuchando 'Space for Rent' de WhoMadeWho Lorenzo. Está buenísima!\n"
          ],
          "name": "stdout"
        }
      ]
    },
    {
      "cell_type": "markdown",
      "metadata": {
        "id": "zdAuu57Ck6Ds"
      },
      "source": [
        "---\n",
        "\n",
        "## Jugando Piedra, Papel o Tijeras\n",
        "\n",
        "Escribe un programa que juege a piedra papel o tijeras entre dos jugadores.\n",
        "\n",
        "- [ ] El programa debe pedirle al primer jugador que escriba su nombre\n",
        "- [ ] Luego preguntarle al segundo jugador que indique su nombre\n",
        "- [ ] Luego pedirle al primer jugador que seleccione entre piedra, papel, o tijeras\n",
        "- [ ] Luego pedirle al segundo jugador que seleccione su jugada\n",
        "- [ ] Imprimir en pantalla quien gana"
      ]
    },
    {
      "cell_type": "code",
      "metadata": {
        "cellView": "form",
        "id": "xnpAsgPTztP0"
      },
      "source": [
        "# @title Función juego\n",
        "def juego():\n",
        "    jugadas = ['piedra', 'papel', 'tijera']\n",
        "    jugador1 = input(\"¿Tu nombre jugador 1? \")\n",
        "    jugador2 = input(\"¿Y el tuyo jugador 2? \")\n",
        "    \n",
        "    # elección del jugador1\n",
        "    jugada1 = input(\"%s, elige entre piedra, papel o tijera: \" %jugador1)\n",
        "    while jugada1 not in jugadas:\n",
        "        print(\"No escribiste ni piedra, ni papel o tijera. Ten cuidado en los detalles.\".format(jugador1))\n",
        "        jugada1 = input(\"Vamos de nuevo con la elección {}, \".format(jugador1))\n",
        "    \n",
        "    # elección del jugador2\n",
        "    jugada2 = input(\"{}, elige entre piedra, papel o tijera: \".format(jugador2))\n",
        "    while jugada2 not in jugadas:\n",
        "        print(\"No escribiste ni piedra, ni papel o tijera. Ten cuidado en los detalles.\".format(jugador2))\n",
        "        jugada2 = input(\"Vamos de nuevo con la elección {}, \".format(jugador2))\n",
        "        \n",
        "    \n",
        "    # numerando\n",
        "    if jugada1 == \"piedra\": x = 100\n",
        "    elif jugada1 == \"papel\": x = 10\n",
        "    else: x = 1\n",
        "\n",
        "    if jugada2 == \"piedra\": y = 100\n",
        "    elif jugada2 == \"papel\": y = 10\n",
        "    else: y = 1\n",
        "\n",
        "    z = x + y\n",
        "\n",
        "\n",
        "    # el juego\n",
        "    if jugada1 == jugada2:\n",
        "        print(\"Quedaron empatados {} y {}!\".format(jugador1, jugador2))\n",
        "    elif z == 11:\n",
        "        if jugada1 == 'tijera':\n",
        "            print(\"Felicidades %s. Ganaste con tijeras\" %jugador1)\n",
        "        else:\n",
        "            print(\"Felicidades %s. Ganaste con tijeras\" %jugador2)\n",
        "    elif z == 101:\n",
        "        if jugada1 == 'piedra':\n",
        "            print(\"Felicidades %s. Ganaste con piedra\" %jugador1)\n",
        "        else:\n",
        "            print(\"Felicidades %s. Ganaste con piedra\" %jugador2)\n",
        "    else:\n",
        "        if jugada1 == 'papel':\n",
        "            print(\"Felicidades %s. Ganaste con papel\" %jugador1)\n",
        "        else:\n",
        "            print(\"Felicidades %s. Ganaste con papel\" %jugador2)\n"
      ],
      "execution_count": 3,
      "outputs": []
    },
    {
      "cell_type": "code",
      "metadata": {
        "colab": {
          "base_uri": "https://localhost:8080/"
        },
        "id": "H1ssThTU-TWL",
        "outputId": "43c780d4-47eb-41fa-c157-50f2af70d663"
      },
      "source": [
        "juego()"
      ],
      "execution_count": 5,
      "outputs": [
        {
          "output_type": "stream",
          "text": [
            "¿Tu nombre jugador 1? Cocó\n",
            "¿Y el tuyo jugador 2? Ramsés\n",
            "Cocó, elige entre piedra, papel o tijera: roca\n",
            "No escribiste ni piedra, ni papel o tijera. Ten cuidado en los detalles.\n",
            "Vamos de nuevo con la elección Cocó, piedra\n",
            "Ramsés, elige entre piedra, papel o tijera: cortadora\n",
            "No escribiste ni piedra, ni papel o tijera. Ten cuidado en los detalles.\n",
            "Vamos de nuevo con la elección Ramsés, tijera\n",
            "Felicidades Cocó. Ganaste con piedra\n"
          ],
          "name": "stdout"
        }
      ]
    }
  ]
}