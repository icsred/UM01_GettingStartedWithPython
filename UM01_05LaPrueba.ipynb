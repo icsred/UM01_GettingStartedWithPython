{
  "nbformat": 4,
  "nbformat_minor": 0,
  "metadata": {
    "colab": {
      "name": "UM01_05LaPrueba.ipynb",
      "provenance": [],
      "collapsed_sections": [],
      "authorship_tag": "ABX9TyOjTxVCeq2jNuIsQXwvwxQF",
      "include_colab_link": true
    },
    "kernelspec": {
      "name": "python3",
      "display_name": "Python 3"
    },
    "language_info": {
      "name": "python"
    }
  },
  "cells": [
    {
      "cell_type": "markdown",
      "metadata": {
        "id": "view-in-github",
        "colab_type": "text"
      },
      "source": [
        "<a href=\"https://colab.research.google.com/github/icsred/UM01_GettingStartedWithPython/blob/main/UM01_05LaPrueba.ipynb\" target=\"_parent\"><img src=\"https://colab.research.google.com/assets/colab-badge.svg\" alt=\"Open In Colab\"/></a>"
      ]
    },
    {
      "cell_type": "markdown",
      "metadata": {
        "id": "WM_qj53ELbh4"
      },
      "source": [
        "# La Prueba\n",
        "\n",
        "Subiendo notebooks desde Google Colab a GitHub. Re escribiendo y reescribiendo.\n",
        "\n",
        "Luego en esta notebook desarrollaré los mismos ejercicios planteados para UM01"
      ]
    },
    {
      "cell_type": "code",
      "metadata": {
        "colab": {
          "base_uri": "https://localhost:8080/"
        },
        "id": "_BDXr9ZTLT1j",
        "outputId": "299500a0-df15-4a84-af59-b185cde02fe2"
      },
      "source": [
        "print('hola mundo')"
      ],
      "execution_count": null,
      "outputs": [
        {
          "output_type": "stream",
          "text": [
            "hola mundo\n"
          ],
          "name": "stdout"
        }
      ]
    },
    {
      "cell_type": "code",
      "metadata": {
        "colab": {
          "base_uri": "https://localhost:8080/"
        },
        "id": "5UMAFkCJcqGA",
        "outputId": "c19f1dce-201a-40b8-8849-cd6cac04e533"
      },
      "source": [
        "print(\"no, you can't\")"
      ],
      "execution_count": 6,
      "outputs": [
        {
          "output_type": "stream",
          "text": [
            "no, you can't\n"
          ],
          "name": "stdout"
        }
      ]
    },
    {
      "cell_type": "code",
      "metadata": {
        "colab": {
          "base_uri": "https://localhost:8080/"
        },
        "id": "FOVzls8LkG3q",
        "outputId": "cda7b895-3de6-4f8c-efca-2098c34d487e"
      },
      "source": [
        "print('¿Gané?')\n",
        "print('Ganó señor')"
      ],
      "execution_count": 7,
      "outputs": [
        {
          "output_type": "stream",
          "text": [
            "¿Gané?\n",
            "Ganó señor\n"
          ],
          "name": "stdout"
        }
      ]
    }
  ]
}