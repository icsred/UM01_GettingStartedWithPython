{
  "nbformat": 4,
  "nbformat_minor": 0,
  "metadata": {
    "colab": {
      "name": "UM01_05LaPrueba.ipynb",
      "provenance": [],
      "collapsed_sections": [],
      "authorship_tag": "ABX9TyObSOB+MqH3y9YRpLRUepQd",
      "include_colab_link": true
    },
    "kernelspec": {
      "name": "python3",
      "display_name": "Python 3"
    },
    "language_info": {
      "name": "python"
    }
  },
  "cells": [
    {
      "cell_type": "markdown",
      "metadata": {
        "id": "view-in-github",
        "colab_type": "text"
      },
      "source": [
        "<a href=\"https://colab.research.google.com/github/icsred/UM01_GettingStartedWithPython/blob/main/UM01_05LaPrueba.ipynb\" target=\"_parent\"><img src=\"https://colab.research.google.com/assets/colab-badge.svg\" alt=\"Open In Colab\"/></a>"
      ]
    },
    {
      "cell_type": "markdown",
      "metadata": {
        "id": "WM_qj53ELbh4"
      },
      "source": [
        "# Resolución de Diana\n",
        "\n",
        "Esta notebook muestra la resolución al ejercicio práctico de Diana.\n",
        "Si quieres que se vea bonita tu notebook usa la [sintaxis de Markdown](https://markdown.es/sintaxis-markdown/)."
      ]
    },
    {
      "cell_type": "markdown",
      "metadata": {
        "id": "p4LsM4Ux9r0M"
      },
      "source": [
        "---\n",
        "\n",
        "## Ejercicio 1\n",
        "\n",
        "Crear un programa que le pregunte al usuario su nombre y su edad en años. El programa debe mostrarle al usuario el nombre e indicarle cuántos meses tiene.\n",
        "\n",
        "Extras:\n",
        "\n",
        "- [ ] El programa debe indicarle al usuario si su edad es un número par o impar\n",
        "- [ ] Si su edad en años es par, sugiérele una canción\n",
        "- [ ] Si su edad en años es impar, sugiérele una serie\n",
        "- [ ] Pero si su edad termina en 5, sugiérele una película\n",
        "- [ ] Pero si su edad termina en 2, sugiérele un coctél"
      ]
    },
    {
      "cell_type": "code",
      "metadata": {
        "colab": {
          "base_uri": "https://localhost:8080/"
        },
        "id": "5yGP2ix--CaB",
        "outputId": "92f85981-4374-4f33-9156-f11c87878f92"
      },
      "source": [
        "nombre = input(\"¿Cómo te llamas? \")\n",
        "edad = input(\"¿Cuántos años tienes? \")"
      ],
      "execution_count": 9,
      "outputs": [
        {
          "output_type": "stream",
          "text": [
            "¿Cómo te llamas? Flor\n",
            "¿Cuántos años tienes? 30\n"
          ],
          "name": "stdout"
        }
      ]
    }
  ]
}