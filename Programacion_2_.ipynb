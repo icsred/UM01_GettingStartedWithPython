{
  "nbformat": 4,
  "nbformat_minor": 0,
  "metadata": {
    "colab": {
      "name": "Programacion 2 .ipynb",
      "provenance": [],
      "collapsed_sections": [],
      "authorship_tag": "ABX9TyNfYEVwAUk0AKkf7MFAabCZ",
      "include_colab_link": true
    },
    "kernelspec": {
      "name": "python3",
      "display_name": "Python 3"
    },
    "language_info": {
      "name": "python"
    }
  },
  "cells": [
    {
      "cell_type": "markdown",
      "metadata": {
        "id": "view-in-github",
        "colab_type": "text"
      },
      "source": [
        "<a href=\"https://colab.research.google.com/github/icsred/UM01_GettingStartedWithPython/blob/main/Programacion_2_.ipynb\" target=\"_parent\"><img src=\"https://colab.research.google.com/assets/colab-badge.svg\" alt=\"Open In Colab\"/></a>"
      ]
    },
    {
      "cell_type": "code",
      "metadata": {
        "id": "2cuQ6Hz6PSwz"
      },
      "source": [
        "jugador1=input(\"Jugador 1: \")\n",
        "jugada1=int(input(\"Ingresa 1 para papel, 2 para piedra y 3 para tijera: \"))\n",
        "while jugada1!=1 and jugada1!=2 and jugada1!=3:\n",
        "    jugada1=int(input(\"Ingresa 1 para papel, 2 para piedra y 3 para tijera: \"))\n",
        "jugador2=input(\"Jugador 2: \")\n",
        "jugada2=int(input(\"Ingresa 1 para papel, 2 para piedra y 3 para tijera: \"))\n",
        "while jugada2!=1 and jugada2!=2 and jugada2!=3:\n",
        "    jugada2=int(input(\"Ingresa 1 para papel, 2 para piedra y 3 para tijera: \"))\n",
        "\n",
        "if jugada1==1:\n",
        "    jug1=\"papel\"\n",
        "elif jugada1==2:\n",
        "    jug1=\"piedra\"\n",
        "else:\n",
        "    jug1=\"tijera\"\n",
        "\n",
        "if jugada2==1:\n",
        "    jug2=\"papel\"\n",
        "elif jugada2==2:\n",
        "    jug2=\"piedra\"\n",
        "else:\n",
        "    jug2=\"tijera\"\n",
        "\n",
        "print (jugador1, \" eligio \", jug1, \" y \", jugador2, \" eligio \", jug2)\n",
        "\n",
        "if jugada1 == jugada2:\n",
        "    print (jugador1, \" y \", jugador2, \" empatan (los 2 eligieron \", jug1, \")\" )\n",
        "elif jugada1==1 and jugada2==2:\n",
        "    print (jugador1, \" le gana a \", jugador2, \" (\", jug1, \" mata \", jug2, \")\" )\n",
        "elif jugada1==1 and jugada2==3:\n",
        "    print (jugador2, \" le gana a \", jugador1, \" (\", jug2, \" mata \", jug1, \")\" )\n",
        "elif jugada1==2 and jugada2==1:\n",
        "    print(jugador2, \" le gana a\", jugador1, \" (\", jug2, \" mata \", jug1, \")\" )\n",
        "elif jugada1==2 and jugada2==3:\n",
        "    print(jugador1, \" le gana a\", jugador2, \" (\", jug1, \" mata \", jug2, \")\" )\n",
        "elif jugada1==3 and jugada2==1:\n",
        "    print(jugador1, \" le gana a \", jugador2, \" (\", jug1, \" mata \", jug2, \")\" )\n",
        "elif jugada1==3 and jugada2==2:\n",
        "    print(jugador2, \" le gana a \", jugador1, \" (\", jug2, \" mata \", jug1, \")\" )"
      ],
      "execution_count": null,
      "outputs": []
    }
  ]
}