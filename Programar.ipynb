{
  "nbformat": 4,
  "nbformat_minor": 0,
  "metadata": {
    "colab": {
      "name": "Programar.ipynb",
      "provenance": [],
      "collapsed_sections": [],
      "authorship_tag": "ABX9TyPZyKGbZ/DwolgQDpbjPZyK",
      "include_colab_link": true
    },
    "kernelspec": {
      "name": "python3",
      "display_name": "Python 3"
    },
    "language_info": {
      "name": "python"
    }
  },
  "cells": [
    {
      "cell_type": "markdown",
      "metadata": {
        "id": "view-in-github",
        "colab_type": "text"
      },
      "source": [
        "<a href=\"https://colab.research.google.com/github/icsred/UM01_GettingStartedWithPython/blob/main/Programar.ipynb\" target=\"_parent\"><img src=\"https://colab.research.google.com/assets/colab-badge.svg\" alt=\"Open In Colab\"/></a>"
      ]
    },
    {
      "cell_type": "code",
      "metadata": {
        "colab": {
          "base_uri": "https://localhost:8080/"
        },
        "id": "S2fSFTVfgYim",
        "outputId": "50229543-444d-4e22-eb25-ebf89fa09008"
      },
      "source": [
        "anos = int(input(\"¿Cuál es tu edad? \")) \n",
        "udanos = anos % 10\n",
        "Nombre = input (\"Cual es tu nombre \")\n",
        "\n",
        "print (Nombre, \" tenes \", anos * 12,\" meses\")\n",
        "if anos %2 != 1:\n",
        "  print (\"Tu edad es par\")\n",
        "  if udanos == 2:\n",
        "    print (\" Tomate una birra\")\n",
        "  else:\n",
        "    print (\"Escuchate esta cancion Spread your fire\" )\n",
        "else: \n",
        "  print (\"Tu edad es impar \")\n",
        "  if udanos == 5:\n",
        "    print(\"Mirate El Padrino\") \n",
        "  else:\n",
        "    print (\"Mirate Vikingos\")\n",
        "\n"
      ],
      "execution_count": null,
      "outputs": [
        {
          "output_type": "stream",
          "text": [
            "¿Cuál es tu edad? 15\n",
            "Cual es tu nombre marce\n",
            "marce  tenes  180  meses\n",
            "Tu edad es impar \n",
            "Mirate El Padrino\n"
          ],
          "name": "stdout"
        }
      ]
    },
    {
      "cell_type": "markdown",
      "metadata": {
        "id": "ZDE9cA21tOdb"
      },
      "source": [
        "Se creo un programa que pregunta al usuario su nombre y su edad en años. \n",
        "Te dejo el link de la canción [Spread your fire](https://www.youtube.com/watch?v=Ds8W3eQ5-Io)"
      ]
    }
  ]
}