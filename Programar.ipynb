{
  "nbformat": 4,
  "nbformat_minor": 0,
  "metadata": {
    "colab": {
      "name": "Programar.ipynb",
      "provenance": [],
      "authorship_tag": "ABX9TyOI4JTIUJbePINkyOVWVpv3",
      "include_colab_link": true
    },
    "kernelspec": {
      "name": "python3",
      "display_name": "Python 3"
    },
    "language_info": {
      "name": "python"
    }
  },
  "cells": [
    {
      "cell_type": "markdown",
      "metadata": {
        "id": "view-in-github",
        "colab_type": "text"
      },
      "source": [
        "<a href=\"https://colab.research.google.com/github/icsred/UM01_GettingStartedWithPython/blob/main/Programar.ipynb\" target=\"_parent\"><img src=\"https://colab.research.google.com/assets/colab-badge.svg\" alt=\"Open In Colab\"/></a>"
      ]
    },
    {
      "cell_type": "code",
      "metadata": {
        "colab": {
          "base_uri": "https://localhost:8080/"
        },
        "id": "q4Mw69bOtYwu",
        "outputId": "fbc789c1-ec04-4c32-ecd2-18e9d686a634"
      },
      "source": [
        "print (\"Programar\") # Mi primer programa"
      ],
      "execution_count": null,
      "outputs": [
        {
          "output_type": "stream",
          "text": [
            "Programar\n"
          ],
          "name": "stdout"
        }
      ]
    },
    {
      "cell_type": "markdown",
      "metadata": {
        "id": "sD28v0Zeuwn3"
      },
      "source": [
        "Marcelo"
      ]
    },
    {
      "cell_type": "code",
      "metadata": {
        "colab": {
          "base_uri": "https://localhost:8080/"
        },
        "id": "253GE3e8u1f9",
        "outputId": "55286ce5-5bec-4e4c-e1aa-1a65707f6ab4"
      },
      "source": [
        "print (\"Marcelo\")"
      ],
      "execution_count": null,
      "outputs": [
        {
          "output_type": "stream",
          "text": [
            "Marcelo\n"
          ],
          "name": "stdout"
        }
      ]
    }
  ]
}