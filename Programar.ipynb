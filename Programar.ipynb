{
  "nbformat": 4,
  "nbformat_minor": 0,
  "metadata": {
    "colab": {
      "name": "Programar.ipynb",
      "provenance": [],
      "authorship_tag": "ABX9TyPZNn0YksdYCIWwOxSlrdQ8",
      "include_colab_link": true
    },
    "kernelspec": {
      "name": "python3",
      "display_name": "Python 3"
    },
    "language_info": {
      "name": "python"
    }
  },
  "cells": [
    {
      "cell_type": "markdown",
      "metadata": {
        "id": "view-in-github",
        "colab_type": "text"
      },
      "source": [
        "<a href=\"https://colab.research.google.com/github/icsred/UM01_GettingStartedWithPython/blob/main/Programar.ipynb\" target=\"_parent\"><img src=\"https://colab.research.google.com/assets/colab-badge.svg\" alt=\"Open In Colab\"/></a>"
      ]
    },
    {
      "cell_type": "code",
      "metadata": {
        "id": "S2fSFTVfgYim"
      },
      "source": [
        "años = int(input(\"¿Cuál es tu edad? \"))\n",
        "udaños = años % 10\n",
        "Nombre = input (\"Cual es tu nombre \")\n",
        "print (Nombre, \" tenes \", años * 12,\" meses\")\n",
        "if años %2 != 1:\n",
        "  print (\"Tu edad es par\")\n",
        "  if udaños == 2:\n",
        "    print (\" Tomate una birra\")\n",
        "  else:\n",
        "    print (\"Escuchate esta cancion Spread your fire\" )\n",
        "else: \n",
        "  print (\"Tu edad es impar \")\n",
        "  if udaños == 5:\n",
        "    print(\"Mirate El Padrino\")\n",
        "  else:\n",
        "    print (\"Mirate Vikingos\")\n",
        "\n"
      ],
      "execution_count": null,
      "outputs": []
    }
  ]
}