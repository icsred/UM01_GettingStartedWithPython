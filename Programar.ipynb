{
  "nbformat": 4,
  "nbformat_minor": 0,
  "metadata": {
    "colab": {
      "name": "Programar.ipynb",
      "provenance": [],
      "authorship_tag": "ABX9TyP2Ihrl3BqQl3hg6pmioZap",
      "include_colab_link": true
    },
    "kernelspec": {
      "name": "python3",
      "display_name": "Python 3"
    },
    "language_info": {
      "name": "python"
    }
  },
  "cells": [
    {
      "cell_type": "markdown",
      "metadata": {
        "id": "view-in-github",
        "colab_type": "text"
      },
      "source": [
        "<a href=\"https://colab.research.google.com/github/icsred/UM01_GettingStartedWithPython/blob/main/Programar.ipynb\" target=\"_parent\"><img src=\"https://colab.research.google.com/assets/colab-badge.svg\" alt=\"Open In Colab\"/></a>"
      ]
    },
    {
      "cell_type": "code",
      "metadata": {
        "id": "S2fSFTVfgYim"
      },
      "source": [
        "años = int(input(\"¿Cuál es tu edad? \"))\n",
        "Nombre = input (\"Cual es tu nombre \")\n",
        "print (Nombre, \" tenes \", años * 12,\" meses\")\n",
        "if años %2 != 1:\n",
        "  print (\"Tu edad es par\")\n",
        "else: \n",
        "  print (\"Tu edad es impar \")\n",
        "\n"
      ],
      "execution_count": null,
      "outputs": []
    },
    {
      "cell_type": "code",
      "metadata": {
        "id": "JFeggtKckM4J"
      },
      "source": [
        "\n"
      ],
      "execution_count": null,
      "outputs": []
    }
  ]
}