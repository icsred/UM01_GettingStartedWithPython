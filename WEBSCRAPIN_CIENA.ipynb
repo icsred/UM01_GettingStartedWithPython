{
  "nbformat": 4,
  "nbformat_minor": 0,
  "metadata": {
    "colab": {
      "name": "WEBSCRAPIN CIENA.ipynb",
      "provenance": [],
      "collapsed_sections": [],
      "authorship_tag": "ABX9TyOSJwrvFMMr/+qwGxtnMbPC",
      "include_colab_link": true
    },
    "kernelspec": {
      "name": "python3",
      "display_name": "Python 3"
    },
    "language_info": {
      "name": "python"
    }
  },
  "cells": [
    {
      "cell_type": "markdown",
      "metadata": {
        "id": "view-in-github",
        "colab_type": "text"
      },
      "source": [
        "<a href=\"https://colab.research.google.com/github/icsred/UM01_GettingStartedWithPython/blob/main/WEBSCRAPIN_CIENA.ipynb\" target=\"_parent\"><img src=\"https://colab.research.google.com/assets/colab-badge.svg\" alt=\"Open In Colab\"/></a>"
      ]
    },
    {
      "cell_type": "code",
      "metadata": {
        "id": "b0_mJBczSXFt",
        "colab": {
          "base_uri": "https://localhost:8080/"
        },
        "outputId": "85cc23b9-1e48-48f5-a22f-3139bb176507"
      },
      "source": [
        "from bs4 import BeautifulSoup \n",
        "import requests\n",
        "import pandas as pd \n",
        "url = 'https://capps.ciena.com/Login/023a81aabe8d456794421a084c2e4e51/Home/UserPrompt'\n",
        "page = requests.get (url)\n",
        "soup = BeautifulSoup (page.content, 'html.parser' )\n",
        "# Usuario\n",
        "usuario = soup.find_all (class_=\"form-group\",)\n",
        "print (usuario)"
      ],
      "execution_count": null,
      "outputs": [
        {
          "output_type": "stream",
          "text": [
            "[<div class=\"form-group\">\n",
            "<label class=\"col-md-4 control-label\" for=\"UserName\">User name</label>\n",
            "<div class=\"col-md-8\">\n",
            "<input class=\"form-control\" data-val=\"true\" data-val-required=\"Username is required.\" id=\"UserName\" name=\"UserName\" type=\"text\" value=\"\"/>\n",
            "<span class=\"field-validation-valid text-danger\" data-valmsg-for=\"UserName\" data-valmsg-replace=\"true\"></span>\n",
            "</div>\n",
            "</div>, <div class=\"form-group\">\n",
            "<label class=\"col-md-4 control-label\" for=\"Password\">Password</label>\n",
            "<div class=\"col-md-8\">\n",
            "<input autocomplete=\"off\" class=\"form-control\" data-val=\"true\" data-val-required=\"Password is required.\" id=\"Password\" name=\"Password\" type=\"password\"/>\n",
            "<span class=\"field-validation-valid text-danger\" data-valmsg-for=\"Password\" data-valmsg-replace=\"true\"></span>\n",
            "</div>\n",
            "</div>, <div class=\"form-group\">\n",
            "<div class=\"col-md-offset-5 col-md-10\">\n",
            "<input class=\"btn btn-primary btn-lg\" type=\"submit\" value=\"Log In\"/>\n",
            "</div>\n",
            "</div>]\n"
          ],
          "name": "stdout"
        }
      ]
    }
  ]
}